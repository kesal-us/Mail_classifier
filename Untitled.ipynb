{
 "cells": [
  {
   "cell_type": "code",
   "execution_count": 10,
   "id": "4794cec3-f4ab-4717-98df-7cced571a276",
   "metadata": {},
   "outputs": [
    {
     "name": "stdout",
     "output_type": "stream",
     "text": [
      "[[0.53404633 0.37997836 0.         0.         0.53404633 0.\n",
      "  0.53404633]\n",
      " [0.         0.37997836 0.53404633 0.53404633 0.         0.53404633\n",
      "  0.        ]]\n",
      "['an' 'example' 'extraction' 'feature' 'is' 'of' 'this']\n"
     ]
    }
   ],
   "source": [
    "from sklearn.feature_extraction.text import TfidfVectorizer\n",
    "\n",
    "vectorizer = TfidfVectorizer()\n",
    "X = vectorizer.fit_transform([\"This is an example\", \"Feature extraction of example\"])\n",
    "\n",
    "print(X.toarray())\n",
    "print(vectorizer.get_feature_names_out())\n"
   ]
  },
  {
   "cell_type": "code",
   "execution_count": 8,
   "id": "2cf8553f-3b34-4501-ab66-71c8f4dcea14",
   "metadata": {},
   "outputs": [
    {
     "name": "stdout",
     "output_type": "stream",
     "text": [
      "[[1 1 0 0 0 0 1 1 0]\n",
      " [2 1 1 1 1 1 1 1 1]]\n",
      "['an' 'example' 'extraction' 'feat' 'feature' 'hu' 'is' 'this' 'useful']\n"
     ]
    }
   ],
   "source": [
    "from sklearn.feature_extraction.text import CountVectorizer\n",
    "\n",
    "text = [\"This is an example\", \"Feature extraction is useful an this example an feat hu\"]\n",
    "vectorizer = CountVectorizer()\n",
    "X = vectorizer.fit_transform(text)\n",
    "\n",
    "print(X.toarray())\n",
    "print(vectorizer.get_feature_names_out())\n"
   ]
  },
  {
   "cell_type": "code",
   "execution_count": null,
   "id": "9161b297-60fa-4693-a58a-4662505b4330",
   "metadata": {},
   "outputs": [],
   "source": []
  }
 ],
 "metadata": {
  "kernelspec": {
   "display_name": "Python 3 (ipykernel)",
   "language": "python",
   "name": "python3"
  },
  "language_info": {
   "codemirror_mode": {
    "name": "ipython",
    "version": 3
   },
   "file_extension": ".py",
   "mimetype": "text/x-python",
   "name": "python",
   "nbconvert_exporter": "python",
   "pygments_lexer": "ipython3",
   "version": "3.12.7"
  }
 },
 "nbformat": 4,
 "nbformat_minor": 5
}
